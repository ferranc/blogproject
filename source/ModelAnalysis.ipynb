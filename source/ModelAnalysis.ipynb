{
 "cells": [
  {
   "cell_type": "code",
   "execution_count": 3,
   "metadata": {
    "collapsed": false
   },
   "outputs": [
    {
     "data": {
      "text/plain": [
       "'/Users/jccan/projects/blog'"
      ]
     },
     "execution_count": 3,
     "metadata": {},
     "output_type": "execute_result"
    }
   ],
   "source": [
    "import os\n",
    "os.getcwd()"
   ]
  },
  {
   "cell_type": "code",
   "execution_count": 4,
   "metadata": {
    "collapsed": false
   },
   "outputs": [],
   "source": [
    "# Load outcome results\n",
    "import matplotlib.pyplot as plt\n",
    "import matplotlib\n",
    "matplotlib.style.use('ggplot')\n",
    "import pandas as pd\n",
    "\n",
    "\n",
    "df = pd.read_pickle('df_outcome_matrix_t25_k45.pkl')\n",
    "ddf = pd.read_pickle('df_outcome_matrix_t25_k55.pkl')"
   ]
  },
  {
   "cell_type": "code",
   "execution_count": 5,
   "metadata": {
    "collapsed": true
   },
   "outputs": [],
   "source": [
    "%matplotlib inline"
   ]
  },
  {
   "cell_type": "code",
   "execution_count": 6,
   "metadata": {
    "collapsed": true
   },
   "outputs": [],
   "source": [
    "import seaborn as sns\n",
    "sns.set_style(\"dark\") # background\n",
    "sns.set_style(\"ticks\") # ticks around"
   ]
  },
  {
   "cell_type": "code",
   "execution_count": 14,
   "metadata": {
    "collapsed": false
   },
   "outputs": [],
   "source": [
    "d= {u'corrupci\\xf3n': 14,\n",
    " u'cultura': 10,\n",
    " u'econom\\xeda': 8,\n",
    " u'educaci\\xf3n': 2,\n",
    " u'empleo': 3,\n",
    " u'fuerzas armadas': 15,\n",
    " u'ideolog\\xeda': 7,\n",
    " u'inseguridad ciudadana': 11,\n",
    " u'internacional': 9,\n",
    " u'justicia': 1,\n",
    " u'j\\xf3venes': 6,\n",
    " u'medio ambiente': 4,\n",
    " u'salud': 5,\n",
    " u'servicios p\\xfablicos e infraestructuras': 13,\n",
    " u'social': 12,\n",
    " u'tecnologia e investigaci\\xf3n': 16,\n",
    " u'terrorismo': 17,\n",
    " u'vivienda': 0}\n",
    "\n",
    "d_i={}\n",
    "for k,v in d.iteritems():\n",
    "    d_i[v] = k"
   ]
  },
  {
   "cell_type": "code",
   "execution_count": 8,
   "metadata": {
    "collapsed": false,
    "scrolled": true
   },
   "outputs": [],
   "source": [
    "dft25k45 = pd.DataFrame(columns=['numLabels', 'maxLabel', 'labelCode', 'labelName'])\n",
    "for i in range(7000):\n",
    "    dft25k45 .loc[i] = [len(df[i].unique()), max(df[i].value_counts()), \n",
    "                  df[i].value_counts().index[0], d_i[df[i].value_counts().index[0]]]"
   ]
  },
  {
   "cell_type": "code",
   "execution_count": 9,
   "metadata": {
    "collapsed": true
   },
   "outputs": [],
   "source": [
    "dft25k55 = pd.DataFrame(columns=['numLabels', 'maxLabel', 'labelCode', 'labelName'])\n",
    "for i in range(7000):\n",
    "    dft25k55 .loc[i] = [len(ddf[i].unique()), max(ddf[i].value_counts()), \n",
    "                  ddf[i].value_counts().index[0], d_i[ddf[i].value_counts().index[0]]]"
   ]
  },
  {
   "cell_type": "code",
   "execution_count": 10,
   "metadata": {
    "collapsed": false
   },
   "outputs": [],
   "source": [
    "s = abs(dft25k55['labelCode'] - dft25k45['labelCode'])\n",
    "d = s>0"
   ]
  },
  {
   "cell_type": "code",
   "execution_count": 107,
   "metadata": {
    "collapsed": false
   },
   "outputs": [
    {
     "name": "stdout",
     "output_type": "stream",
     "text": [
      "92.7857142857\n",
      "7.21428571429\n"
     ]
    }
   ],
   "source": [
    "print len(s[s==0])*100/7000.\n",
    "print (len(s) - len(s[s==0]))*100/7000."
   ]
  },
  {
   "cell_type": "code",
   "execution_count": 108,
   "metadata": {
    "collapsed": false
   },
   "outputs": [
    {
     "data": {
      "text/plain": [
       "0     False\n",
       "1     False\n",
       "2     False\n",
       "3     False\n",
       "4     False\n",
       "5      True\n",
       "6     False\n",
       "7     False\n",
       "8      True\n",
       "9     False\n",
       "10    False\n",
       "11    False\n",
       "12    False\n",
       "13    False\n",
       "14    False\n",
       "...\n",
       "6985    False\n",
       "6986    False\n",
       "6987    False\n",
       "6988    False\n",
       "6989    False\n",
       "6990    False\n",
       "6991    False\n",
       "6992    False\n",
       "6993     True\n",
       "6994    False\n",
       "6995    False\n",
       "6996    False\n",
       "6997    False\n",
       "6998     True\n",
       "6999    False\n",
       "Name: labelCode, Length: 7000, dtype: bool"
      ]
     },
     "execution_count": 108,
     "metadata": {},
     "output_type": "execute_result"
    }
   ],
   "source": [
    "d"
   ]
  },
  {
   "cell_type": "code",
   "execution_count": 149,
   "metadata": {
    "collapsed": false
   },
   "outputs": [
    {
     "data": {
      "image/png": "[encoded data removed]",
      "text/plain": [
       "<matplotlib.figure.Figure at 0x11f724f90>"
      ]
     },
     "metadata": {},
     "output_type": "display_data"
    }
   ],
   "source": [
    "plt.ylabel('Number of documents')\n",
    "plt.xlabel('0 - coincident 1 - not coincident')\n",
    "plt.title('Differences between k=45 and k=55 ')\n",
    "plt.hist(d, color=\"#6495ED\", bins=2)\n",
    "plt.savefig('./files/differences_between_models.png')"
   ]
  },
  {
   "cell_type": "code",
   "execution_count": 150,
   "metadata": {
    "collapsed": false
   },
   "outputs": [
    {
     "data": {
      "image/png": "[encoded data removed]",
      "text/plain": [
       "<matplotlib.figure.Figure at 0x1277fc990>"
      ]
     },
     "metadata": {},
     "output_type": "display_data"
    },
    {
     "data": {
      "text/plain": [
       "<matplotlib.figure.Figure at 0x1277fce10>"
      ]
     },
     "metadata": {},
     "output_type": "display_data"
    }
   ],
   "source": [
    "#dft25k55['maxLabel'].hist(color='r')\n",
    "plt.ylabel('Number of documents')\n",
    "plt.xlabel('% label most chosen')\n",
    "plt.title('How our model labels')\n",
    "plt.axis([0,100,0,3500])\n",
    "hist1 = plt.hist(dft25k55['maxLabel'],  label='k=55', normed=False, color=\"#6495ED\", alpha=.5)\n",
    "hist2 = plt.hist(dft25k45['maxLabel'],  label='k=45', normed=False, color=\"#F08080\", alpha=.5);\n",
    "plt.legend(loc=2)\n",
    "plt.show()\n",
    "plt.savefig('./files/maxLabel.png')\n"
   ]
  },
  {
   "cell_type": "code",
   "execution_count": 151,
   "metadata": {
    "collapsed": false
   },
   "outputs": [
    {
     "name": "stdout",
     "output_type": "stream",
     "text": [
      "6207\n",
      "6274\n"
     ]
    }
   ],
   "source": [
    "print len(dft25k55[dft25k55['maxLabel']>=51])\n",
    "print len(dft25k45[dft25k45['maxLabel']>=51])"
   ]
  },
  {
   "cell_type": "code",
   "execution_count": 152,
   "metadata": {
    "collapsed": false
   },
   "outputs": [
    {
     "data": {
      "image/png": "[encoded data removed]",
      "text/plain": [
       "<matplotlib.figure.Figure at 0x127bbe3d0>"
      ]
     },
     "metadata": {},
     "output_type": "display_data"
    },
    {
     "data": {
      "text/plain": [
       "<matplotlib.figure.Figure at 0x127ee4a90>"
      ]
     },
     "metadata": {},
     "output_type": "display_data"
    }
   ],
   "source": [
    "#dft25k55['numLabels'].hist(color='r')\n",
    "#plt.hist(dft25k55['numLabels'])\n",
    "plt.ylabel('Number of documents')\n",
    "plt.xlabel('Number of labels per document')\n",
    "plt.title('How many labels per document')\n",
    "plt.axis([0,16,0,2500])\n",
    "hist1 = plt.hist(dft25k55['numLabels'], label='k=55', normed=False, color=\"#6495ED\", alpha=.5)\n",
    "hist2 = plt.hist(dft25k45['numLabels'], label='k=45', normed=False, color=\"#F08080\", alpha=.5)\n",
    "plt.legend(loc=1)\n",
    "plt.show()\n",
    "plt.savefig('./files/numLabel.png')\n",
    "\n",
    "\n",
    "\n"
   ]
  },
  {
   "cell_type": "code",
   "execution_count": 154,
   "metadata": {
    "collapsed": false
   },
   "outputs": [
    {
     "data": {
      "image/png": "[encoded data removed]",
      "text/plain": [
       "<matplotlib.figure.Figure at 0x127efe710>"
      ]
     },
     "metadata": {},
     "output_type": "display_data"
    },
    {
     "data": {
      "text/plain": [
       "<matplotlib.figure.Figure at 0x127efe6d0>"
      ]
     },
     "metadata": {},
     "output_type": "display_data"
    }
   ],
   "source": [
    "#dft25k55['labelCode'].hist(color='r',bins=17)\n",
    "#dft25k45['labelCode'].hist(color='g',bins=17)\n",
    "#plt.hist(dft25k55['labelCode'],  normed=False, color=\"#6495ED\", alpha=.5)\n",
    "#plt.hist(dft25k45['labelCode'], normed=False, color=\"#F08080\", alpha=.5);\n",
    "plt.ylabel('Number of documents')\n",
    "plt.xlabel('Labels')\n",
    "plt.title('Distribution of labels per document')\n",
    "plt.axis([0,16,0,2500])\n",
    "hist1 = plt.hist(dft25k55['labelCode'], label='k=55', normed=False, color=\"#6495ED\", alpha=.5)\n",
    "hist2 = plt.hist(dft25k45['labelCode'], label='k=45', normed=False, color=\"#F08080\", alpha=.5)\n",
    "plt.legend(loc=2)\n",
    "plt.show()\n",
    "plt.savefig('./files/labelCode.png')"
   ]
  },
  {
   "cell_type": "code",
   "execution_count": 12,
   "metadata": {
    "collapsed": false
   },
   "outputs": [],
   "source": [
    "# How close or far is our model from the 'majority' model?\n",
    "\n",
    "df_our_model = pd.read_pickle('2015129_01320_df2pablo_tf_25_k_45.pkl')"
   ]
  },
  {
   "cell_type": "code",
   "execution_count": 15,
   "metadata": {
    "collapsed": false
   },
   "outputs": [],
   "source": [
    "df_our_model['labelCode'] = df_our_model['label'].apply(lambda x: d[x])"
   ]
  },
  {
   "cell_type": "code",
   "execution_count": 16,
   "metadata": {
    "collapsed": false
   },
   "outputs": [
    {
     "data": {
      "text/html": [
       "<div style=\"max-height:1000px;max-width:1500px;overflow:auto;\">\n",
       "<table border=\"1\" class=\"dataframe\">\n",
       "  <thead>\n",
       "    <tr style=\"text-align: right;\">\n",
       "      <th></th>\n",
       "      <th>date</th>\n",
       "      <th>label</th>\n",
       "      <th>keywords</th>\n",
       "      <th>labelCode</th>\n",
       "    </tr>\n",
       "  </thead>\n",
       "  <tbody>\n",
       "    <tr>\n",
       "      <th>0</th>\n",
       "      <td>2000-09-13</td>\n",
       "      <td>internacional</td>\n",
       "      <td>[asuntos exteriores, política exterior, derech...</td>\n",
       "      <td>9</td>\n",
       "    </tr>\n",
       "    <tr>\n",
       "      <th>1</th>\n",
       "      <td>2000-09-13</td>\n",
       "      <td>economía</td>\n",
       "      <td>[empresas, empresas españolas, medianas empres...</td>\n",
       "      <td>8</td>\n",
       "    </tr>\n",
       "    <tr>\n",
       "      <th>2</th>\n",
       "      <td>2000-09-13</td>\n",
       "      <td>medio ambiente</td>\n",
       "      <td>[energías renovables, seguridad nuclear, energ...</td>\n",
       "      <td>4</td>\n",
       "    </tr>\n",
       "    <tr>\n",
       "      <th>3</th>\n",
       "      <td>2000-09-13</td>\n",
       "      <td>economía</td>\n",
       "      <td>[empresas, empresas españolas, medianas empres...</td>\n",
       "      <td>8</td>\n",
       "    </tr>\n",
       "    <tr>\n",
       "      <th>4</th>\n",
       "      <td>2000-09-13</td>\n",
       "      <td>economía</td>\n",
       "      <td>[empresas, empresas españolas, medianas empres...</td>\n",
       "      <td>8</td>\n",
       "    </tr>\n",
       "    <tr>\n",
       "      <th>5</th>\n",
       "      <td>2000-09-13</td>\n",
       "      <td>economía</td>\n",
       "      <td>[empresas, empresas españolas, medianas empres...</td>\n",
       "      <td>8</td>\n",
       "    </tr>\n",
       "    <tr>\n",
       "      <th>6</th>\n",
       "      <td>2000-09-13</td>\n",
       "      <td>economía</td>\n",
       "      <td>[empresas, empresas españolas, medianas empres...</td>\n",
       "      <td>8</td>\n",
       "    </tr>\n",
       "    <tr>\n",
       "      <th>7</th>\n",
       "      <td>2000-09-13</td>\n",
       "      <td>economía</td>\n",
       "      <td>[empresas, empresas españolas, medianas empres...</td>\n",
       "      <td>8</td>\n",
       "    </tr>\n",
       "    <tr>\n",
       "      <th>8</th>\n",
       "      <td>2000-09-13</td>\n",
       "      <td>economía</td>\n",
       "      <td>[empresas, empresas españolas, medianas empres...</td>\n",
       "      <td>8</td>\n",
       "    </tr>\n",
       "    <tr>\n",
       "      <th>9</th>\n",
       "      <td>2000-09-13</td>\n",
       "      <td>economía</td>\n",
       "      <td>[empresas, empresas españolas, medianas empres...</td>\n",
       "      <td>8</td>\n",
       "    </tr>\n",
       "    <tr>\n",
       "      <th>10</th>\n",
       "      <td>2000-09-13</td>\n",
       "      <td>terrorismo</td>\n",
       "      <td>[país vasco, vasco, concierto económico, eta, ...</td>\n",
       "      <td>17</td>\n",
       "    </tr>\n",
       "    <tr>\n",
       "      <th>11</th>\n",
       "      <td>2000-09-13</td>\n",
       "      <td>ideología</td>\n",
       "      <td>[guerra civil, memoria histórica, guerra, arch...</td>\n",
       "      <td>7</td>\n",
       "    </tr>\n",
       "    <tr>\n",
       "      <th>12</th>\n",
       "      <td>2000-09-13</td>\n",
       "      <td>servicios públicos e infraestructuras</td>\n",
       "      <td>[alta velocidad, línea, ave, red, tren, red co...</td>\n",
       "      <td>13</td>\n",
       "    </tr>\n",
       "    <tr>\n",
       "      <th>13</th>\n",
       "      <td>2000-09-13</td>\n",
       "      <td>salud</td>\n",
       "      <td>[sistema nacional, sanidad, sanidad pública, c...</td>\n",
       "      <td>5</td>\n",
       "    </tr>\n",
       "    <tr>\n",
       "      <th>14</th>\n",
       "      <td>2000-09-13</td>\n",
       "      <td>educación</td>\n",
       "      <td>[sistema educativo, educación, comunidad educa...</td>\n",
       "      <td>2</td>\n",
       "    </tr>\n",
       "    <tr>\n",
       "      <th>15</th>\n",
       "      <td>2000-09-13</td>\n",
       "      <td>jóvenes</td>\n",
       "      <td>[jóvenes, paro juvenil, paro, jóvenes españole...</td>\n",
       "      <td>6</td>\n",
       "    </tr>\n",
       "    <tr>\n",
       "      <th>16</th>\n",
       "      <td>2000-09-13</td>\n",
       "      <td>empleo</td>\n",
       "      <td>[reforma laboral, negociación colectiva, merca...</td>\n",
       "      <td>3</td>\n",
       "    </tr>\n",
       "    <tr>\n",
       "      <th>17</th>\n",
       "      <td>2000-09-13</td>\n",
       "      <td>economía</td>\n",
       "      <td>[empresas, empresas españolas, medianas empres...</td>\n",
       "      <td>8</td>\n",
       "    </tr>\n",
       "    <tr>\n",
       "      <th>18</th>\n",
       "      <td>2000-09-13</td>\n",
       "      <td>tecnologia e investigación</td>\n",
       "      <td>[investigación, i d i, i d, ciencia, investiga...</td>\n",
       "      <td>16</td>\n",
       "    </tr>\n",
       "    <tr>\n",
       "      <th>19</th>\n",
       "      <td>2000-09-13</td>\n",
       "      <td>economía</td>\n",
       "      <td>[empresas, empresas españolas, medianas empres...</td>\n",
       "      <td>8</td>\n",
       "    </tr>\n",
       "    <tr>\n",
       "      <th>20</th>\n",
       "      <td>2000-09-13</td>\n",
       "      <td>economía</td>\n",
       "      <td>[empresas, empresas españolas, medianas empres...</td>\n",
       "      <td>8</td>\n",
       "    </tr>\n",
       "    <tr>\n",
       "      <th>21</th>\n",
       "      <td>2000-09-13</td>\n",
       "      <td>economía</td>\n",
       "      <td>[empresas, empresas españolas, medianas empres...</td>\n",
       "      <td>8</td>\n",
       "    </tr>\n",
       "    <tr>\n",
       "      <th>22</th>\n",
       "      <td>2000-09-13</td>\n",
       "      <td>economía</td>\n",
       "      <td>[empresas, empresas españolas, medianas empres...</td>\n",
       "      <td>8</td>\n",
       "    </tr>\n",
       "    <tr>\n",
       "      <th>23</th>\n",
       "      <td>2000-09-13</td>\n",
       "      <td>economía</td>\n",
       "      <td>[empresas, empresas españolas, medianas empres...</td>\n",
       "      <td>8</td>\n",
       "    </tr>\n",
       "    <tr>\n",
       "      <th>24</th>\n",
       "      <td>2000-09-20</td>\n",
       "      <td>economía</td>\n",
       "      <td>[empresas, empresas españolas, medianas empres...</td>\n",
       "      <td>8</td>\n",
       "    </tr>\n",
       "    <tr>\n",
       "      <th>25</th>\n",
       "      <td>2000-09-20</td>\n",
       "      <td>medio ambiente</td>\n",
       "      <td>[energías renovables, seguridad nuclear, energ...</td>\n",
       "      <td>4</td>\n",
       "    </tr>\n",
       "    <tr>\n",
       "      <th>26</th>\n",
       "      <td>2000-09-20</td>\n",
       "      <td>economía</td>\n",
       "      <td>[empresas, empresas españolas, medianas empres...</td>\n",
       "      <td>8</td>\n",
       "    </tr>\n",
       "    <tr>\n",
       "      <th>27</th>\n",
       "      <td>2000-09-20</td>\n",
       "      <td>economía</td>\n",
       "      <td>[empresas, empresas españolas, medianas empres...</td>\n",
       "      <td>8</td>\n",
       "    </tr>\n",
       "    <tr>\n",
       "      <th>28</th>\n",
       "      <td>2000-09-20</td>\n",
       "      <td>corrupción</td>\n",
       "      <td>[agencia tributaria, fraude fiscal, amnistía f...</td>\n",
       "      <td>14</td>\n",
       "    </tr>\n",
       "    <tr>\n",
       "      <th>29</th>\n",
       "      <td>2000-09-20</td>\n",
       "      <td>corrupción</td>\n",
       "      <td>[agencia tributaria, fraude fiscal, amnistía f...</td>\n",
       "      <td>14</td>\n",
       "    </tr>\n",
       "    <tr>\n",
       "      <th>...</th>\n",
       "      <td>...</td>\n",
       "      <td>...</td>\n",
       "      <td>...</td>\n",
       "      <td>...</td>\n",
       "    </tr>\n",
       "    <tr>\n",
       "      <th>6970</th>\n",
       "      <td>2015-02-18</td>\n",
       "      <td>vivienda</td>\n",
       "      <td>[vivienda, vivienda protegida, viviendas, vivi...</td>\n",
       "      <td>0</td>\n",
       "    </tr>\n",
       "    <tr>\n",
       "      <th>6971</th>\n",
       "      <td>2015-02-18</td>\n",
       "      <td>economía</td>\n",
       "      <td>[empresas, empresas españolas, medianas empres...</td>\n",
       "      <td>8</td>\n",
       "    </tr>\n",
       "    <tr>\n",
       "      <th>6972</th>\n",
       "      <td>2015-02-18</td>\n",
       "      <td>salud</td>\n",
       "      <td>[sistema nacional, sanidad, sanidad pública, c...</td>\n",
       "      <td>5</td>\n",
       "    </tr>\n",
       "    <tr>\n",
       "      <th>6973</th>\n",
       "      <td>2015-02-18</td>\n",
       "      <td>economía</td>\n",
       "      <td>[empresas, empresas españolas, medianas empres...</td>\n",
       "      <td>8</td>\n",
       "    </tr>\n",
       "    <tr>\n",
       "      <th>6974</th>\n",
       "      <td>2015-02-18</td>\n",
       "      <td>economía</td>\n",
       "      <td>[empresas, empresas españolas, medianas empres...</td>\n",
       "      <td>8</td>\n",
       "    </tr>\n",
       "    <tr>\n",
       "      <th>6975</th>\n",
       "      <td>2015-02-18</td>\n",
       "      <td>social</td>\n",
       "      <td>[igualdad, servicios sociales, gasto social, p...</td>\n",
       "      <td>12</td>\n",
       "    </tr>\n",
       "    <tr>\n",
       "      <th>6976</th>\n",
       "      <td>2015-02-18</td>\n",
       "      <td>social</td>\n",
       "      <td>[igualdad, servicios sociales, gasto social, p...</td>\n",
       "      <td>12</td>\n",
       "    </tr>\n",
       "    <tr>\n",
       "      <th>6977</th>\n",
       "      <td>2015-02-18</td>\n",
       "      <td>servicios públicos e infraestructuras</td>\n",
       "      <td>[alta velocidad, línea, ave, red, tren, red co...</td>\n",
       "      <td>13</td>\n",
       "    </tr>\n",
       "    <tr>\n",
       "      <th>6978</th>\n",
       "      <td>2015-02-18</td>\n",
       "      <td>educación</td>\n",
       "      <td>[sistema educativo, educación, comunidad educa...</td>\n",
       "      <td>2</td>\n",
       "    </tr>\n",
       "    <tr>\n",
       "      <th>6979</th>\n",
       "      <td>2015-02-18</td>\n",
       "      <td>cultura</td>\n",
       "      <td>[cultura, deporte, lengua, patrimonio, cultura...</td>\n",
       "      <td>10</td>\n",
       "    </tr>\n",
       "    <tr>\n",
       "      <th>6980</th>\n",
       "      <td>2015-03-11</td>\n",
       "      <td>social</td>\n",
       "      <td>[igualdad, servicios sociales, gasto social, p...</td>\n",
       "      <td>12</td>\n",
       "    </tr>\n",
       "    <tr>\n",
       "      <th>6981</th>\n",
       "      <td>2015-03-11</td>\n",
       "      <td>economía</td>\n",
       "      <td>[empresas, empresas españolas, medianas empres...</td>\n",
       "      <td>8</td>\n",
       "    </tr>\n",
       "    <tr>\n",
       "      <th>6982</th>\n",
       "      <td>2015-03-11</td>\n",
       "      <td>medio ambiente</td>\n",
       "      <td>[energías renovables, seguridad nuclear, energ...</td>\n",
       "      <td>4</td>\n",
       "    </tr>\n",
       "    <tr>\n",
       "      <th>6983</th>\n",
       "      <td>2015-03-11</td>\n",
       "      <td>terrorismo</td>\n",
       "      <td>[país vasco, vasco, concierto económico, eta, ...</td>\n",
       "      <td>17</td>\n",
       "    </tr>\n",
       "    <tr>\n",
       "      <th>6984</th>\n",
       "      <td>2015-03-11</td>\n",
       "      <td>terrorismo</td>\n",
       "      <td>[país vasco, vasco, concierto económico, eta, ...</td>\n",
       "      <td>17</td>\n",
       "    </tr>\n",
       "    <tr>\n",
       "      <th>6985</th>\n",
       "      <td>2015-03-11</td>\n",
       "      <td>social</td>\n",
       "      <td>[igualdad, servicios sociales, gasto social, p...</td>\n",
       "      <td>12</td>\n",
       "    </tr>\n",
       "    <tr>\n",
       "      <th>6986</th>\n",
       "      <td>2015-03-11</td>\n",
       "      <td>fuerzas armadas</td>\n",
       "      <td>[fuerzas armadas, defensa, militares, defensa ...</td>\n",
       "      <td>15</td>\n",
       "    </tr>\n",
       "    <tr>\n",
       "      <th>6987</th>\n",
       "      <td>2015-03-11</td>\n",
       "      <td>corrupción</td>\n",
       "      <td>[agencia tributaria, fraude fiscal, amnistía f...</td>\n",
       "      <td>14</td>\n",
       "    </tr>\n",
       "    <tr>\n",
       "      <th>6988</th>\n",
       "      <td>2015-03-11</td>\n",
       "      <td>corrupción</td>\n",
       "      <td>[agencia tributaria, fraude fiscal, amnistía f...</td>\n",
       "      <td>14</td>\n",
       "    </tr>\n",
       "    <tr>\n",
       "      <th>6989</th>\n",
       "      <td>2015-03-11</td>\n",
       "      <td>educación</td>\n",
       "      <td>[sistema educativo, educación, comunidad educa...</td>\n",
       "      <td>2</td>\n",
       "    </tr>\n",
       "    <tr>\n",
       "      <th>6990</th>\n",
       "      <td>2015-03-11</td>\n",
       "      <td>economía</td>\n",
       "      <td>[empresas, empresas españolas, medianas empres...</td>\n",
       "      <td>8</td>\n",
       "    </tr>\n",
       "    <tr>\n",
       "      <th>6991</th>\n",
       "      <td>2015-03-11</td>\n",
       "      <td>economía</td>\n",
       "      <td>[empresas, empresas españolas, medianas empres...</td>\n",
       "      <td>8</td>\n",
       "    </tr>\n",
       "    <tr>\n",
       "      <th>6992</th>\n",
       "      <td>2015-03-11</td>\n",
       "      <td>medio ambiente</td>\n",
       "      <td>[energías renovables, seguridad nuclear, energ...</td>\n",
       "      <td>4</td>\n",
       "    </tr>\n",
       "    <tr>\n",
       "      <th>6993</th>\n",
       "      <td>2015-03-11</td>\n",
       "      <td>empleo</td>\n",
       "      <td>[reforma laboral, negociación colectiva, merca...</td>\n",
       "      <td>3</td>\n",
       "    </tr>\n",
       "    <tr>\n",
       "      <th>6994</th>\n",
       "      <td>2015-03-11</td>\n",
       "      <td>social</td>\n",
       "      <td>[igualdad, servicios sociales, gasto social, p...</td>\n",
       "      <td>12</td>\n",
       "    </tr>\n",
       "    <tr>\n",
       "      <th>6995</th>\n",
       "      <td>2015-03-11</td>\n",
       "      <td>empleo</td>\n",
       "      <td>[reforma laboral, negociación colectiva, merca...</td>\n",
       "      <td>3</td>\n",
       "    </tr>\n",
       "    <tr>\n",
       "      <th>6996</th>\n",
       "      <td>2015-03-11</td>\n",
       "      <td>economía</td>\n",
       "      <td>[empresas, empresas españolas, medianas empres...</td>\n",
       "      <td>8</td>\n",
       "    </tr>\n",
       "    <tr>\n",
       "      <th>6997</th>\n",
       "      <td>2015-03-11</td>\n",
       "      <td>social</td>\n",
       "      <td>[igualdad, servicios sociales, gasto social, p...</td>\n",
       "      <td>12</td>\n",
       "    </tr>\n",
       "    <tr>\n",
       "      <th>6998</th>\n",
       "      <td>2015-03-11</td>\n",
       "      <td>fuerzas armadas</td>\n",
       "      <td>[fuerzas armadas, defensa, militares, defensa ...</td>\n",
       "      <td>15</td>\n",
       "    </tr>\n",
       "    <tr>\n",
       "      <th>6999</th>\n",
       "      <td>2015-03-11</td>\n",
       "      <td>economía</td>\n",
       "      <td>[empresas, empresas españolas, medianas empres...</td>\n",
       "      <td>8</td>\n",
       "    </tr>\n",
       "  </tbody>\n",
       "</table>\n",
       "<p>7000 rows × 4 columns</p>\n",
       "</div>"
      ],
      "text/plain": [
       "           date                                  label  \\\n",
       "0    2000-09-13                          internacional   \n",
       "1    2000-09-13                               economía   \n",
       "2    2000-09-13                         medio ambiente   \n",
       "3    2000-09-13                               economía   \n",
       "4    2000-09-13                               economía   \n",
       "5    2000-09-13                               economía   \n",
       "6    2000-09-13                               economía   \n",
       "7    2000-09-13                               economía   \n",
       "8    2000-09-13                               economía   \n",
       "9    2000-09-13                               economía   \n",
       "10   2000-09-13                             terrorismo   \n",
       "11   2000-09-13                              ideología   \n",
       "12   2000-09-13  servicios públicos e infraestructuras   \n",
       "13   2000-09-13                                  salud   \n",
       "14   2000-09-13                              educación   \n",
       "15   2000-09-13                                jóvenes   \n",
       "16   2000-09-13                                 empleo   \n",
       "17   2000-09-13                               economía   \n",
       "18   2000-09-13             tecnologia e investigación   \n",
       "19   2000-09-13                               economía   \n",
       "20   2000-09-13                               economía   \n",
       "21   2000-09-13                               economía   \n",
       "22   2000-09-13                               economía   \n",
       "23   2000-09-13                               economía   \n",
       "24   2000-09-20                               economía   \n",
       "25   2000-09-20                         medio ambiente   \n",
       "26   2000-09-20                               economía   \n",
       "27   2000-09-20                               economía   \n",
       "28   2000-09-20                             corrupción   \n",
       "29   2000-09-20                             corrupción   \n",
       "...         ...                                    ...   \n",
       "6970 2015-02-18                               vivienda   \n",
       "6971 2015-02-18                               economía   \n",
       "6972 2015-02-18                                  salud   \n",
       "6973 2015-02-18                               economía   \n",
       "6974 2015-02-18                               economía   \n",
       "6975 2015-02-18                                 social   \n",
       "6976 2015-02-18                                 social   \n",
       "6977 2015-02-18  servicios públicos e infraestructuras   \n",
       "6978 2015-02-18                              educación   \n",
       "6979 2015-02-18                                cultura   \n",
       "6980 2015-03-11                                 social   \n",
       "6981 2015-03-11                               economía   \n",
       "6982 2015-03-11                         medio ambiente   \n",
       "6983 2015-03-11                             terrorismo   \n",
       "6984 2015-03-11                             terrorismo   \n",
       "6985 2015-03-11                                 social   \n",
       "6986 2015-03-11                        fuerzas armadas   \n",
       "6987 2015-03-11                             corrupción   \n",
       "6988 2015-03-11                             corrupción   \n",
       "6989 2015-03-11                              educación   \n",
       "6990 2015-03-11                               economía   \n",
       "6991 2015-03-11                               economía   \n",
       "6992 2015-03-11                         medio ambiente   \n",
       "6993 2015-03-11                                 empleo   \n",
       "6994 2015-03-11                                 social   \n",
       "6995 2015-03-11                                 empleo   \n",
       "6996 2015-03-11                               economía   \n",
       "6997 2015-03-11                                 social   \n",
       "6998 2015-03-11                        fuerzas armadas   \n",
       "6999 2015-03-11                               economía   \n",
       "\n",
       "                                               keywords  labelCode  \n",
       "0     [asuntos exteriores, política exterior, derech...          9  \n",
       "1     [empresas, empresas españolas, medianas empres...          8  \n",
       "2     [energías renovables, seguridad nuclear, energ...          4  \n",
       "3     [empresas, empresas españolas, medianas empres...          8  \n",
       "4     [empresas, empresas españolas, medianas empres...          8  \n",
       "5     [empresas, empresas españolas, medianas empres...          8  \n",
       "6     [empresas, empresas españolas, medianas empres...          8  \n",
       "7     [empresas, empresas españolas, medianas empres...          8  \n",
       "8     [empresas, empresas españolas, medianas empres...          8  \n",
       "9     [empresas, empresas españolas, medianas empres...          8  \n",
       "10    [país vasco, vasco, concierto económico, eta, ...         17  \n",
       "11    [guerra civil, memoria histórica, guerra, arch...          7  \n",
       "12    [alta velocidad, línea, ave, red, tren, red co...         13  \n",
       "13    [sistema nacional, sanidad, sanidad pública, c...          5  \n",
       "14    [sistema educativo, educación, comunidad educa...          2  \n",
       "15    [jóvenes, paro juvenil, paro, jóvenes españole...          6  \n",
       "16    [reforma laboral, negociación colectiva, merca...          3  \n",
       "17    [empresas, empresas españolas, medianas empres...          8  \n",
       "18    [investigación, i d i, i d, ciencia, investiga...         16  \n",
       "19    [empresas, empresas españolas, medianas empres...          8  \n",
       "20    [empresas, empresas españolas, medianas empres...          8  \n",
       "21    [empresas, empresas españolas, medianas empres...          8  \n",
       "22    [empresas, empresas españolas, medianas empres...          8  \n",
       "23    [empresas, empresas españolas, medianas empres...          8  \n",
       "24    [empresas, empresas españolas, medianas empres...          8  \n",
       "25    [energías renovables, seguridad nuclear, energ...          4  \n",
       "26    [empresas, empresas españolas, medianas empres...          8  \n",
       "27    [empresas, empresas españolas, medianas empres...          8  \n",
       "28    [agencia tributaria, fraude fiscal, amnistía f...         14  \n",
       "29    [agencia tributaria, fraude fiscal, amnistía f...         14  \n",
       "...                                                 ...        ...  \n",
       "6970  [vivienda, vivienda protegida, viviendas, vivi...          0  \n",
       "6971  [empresas, empresas españolas, medianas empres...          8  \n",
       "6972  [sistema nacional, sanidad, sanidad pública, c...          5  \n",
       "6973  [empresas, empresas españolas, medianas empres...          8  \n",
       "6974  [empresas, empresas españolas, medianas empres...          8  \n",
       "6975  [igualdad, servicios sociales, gasto social, p...         12  \n",
       "6976  [igualdad, servicios sociales, gasto social, p...         12  \n",
       "6977  [alta velocidad, línea, ave, red, tren, red co...         13  \n",
       "6978  [sistema educativo, educación, comunidad educa...          2  \n",
       "6979  [cultura, deporte, lengua, patrimonio, cultura...         10  \n",
       "6980  [igualdad, servicios sociales, gasto social, p...         12  \n",
       "6981  [empresas, empresas españolas, medianas empres...          8  \n",
       "6982  [energías renovables, seguridad nuclear, energ...          4  \n",
       "6983  [país vasco, vasco, concierto económico, eta, ...         17  \n",
       "6984  [país vasco, vasco, concierto económico, eta, ...         17  \n",
       "6985  [igualdad, servicios sociales, gasto social, p...         12  \n",
       "6986  [fuerzas armadas, defensa, militares, defensa ...         15  \n",
       "6987  [agencia tributaria, fraude fiscal, amnistía f...         14  \n",
       "6988  [agencia tributaria, fraude fiscal, amnistía f...         14  \n",
       "6989  [sistema educativo, educación, comunidad educa...          2  \n",
       "6990  [empresas, empresas españolas, medianas empres...          8  \n",
       "6991  [empresas, empresas españolas, medianas empres...          8  \n",
       "6992  [energías renovables, seguridad nuclear, energ...          4  \n",
       "6993  [reforma laboral, negociación colectiva, merca...          3  \n",
       "6994  [igualdad, servicios sociales, gasto social, p...         12  \n",
       "6995  [reforma laboral, negociación colectiva, merca...          3  \n",
       "6996  [empresas, empresas españolas, medianas empres...          8  \n",
       "6997  [igualdad, servicios sociales, gasto social, p...         12  \n",
       "6998  [fuerzas armadas, defensa, militares, defensa ...         15  \n",
       "6999  [empresas, empresas españolas, medianas empres...          8  \n",
       "\n",
       "[7000 rows x 4 columns]"
      ]
     },
     "execution_count": 16,
     "metadata": {},
     "output_type": "execute_result"
    }
   ],
   "source": [
    "df_our_model"
   ]
  },
  {
   "cell_type": "code",
   "execution_count": 24,
   "metadata": {
    "collapsed": false
   },
   "outputs": [],
   "source": [
    "s2 = abs(dft25k45['labelCode'] - df_our_model['labelCode'])\n",
    "d2 = s2>0"
   ]
  },
  {
   "cell_type": "code",
   "execution_count": 23,
   "metadata": {
    "collapsed": false
   },
   "outputs": [
    {
     "name": "stdout",
     "output_type": "stream",
     "text": [
      "65.1142857143\n",
      "34.8857142857\n"
     ]
    }
   ],
   "source": [
    "print len(s2[s2==0])*100/7000.\n",
    "print (len(s2) - len(s2[s2==0]))*100/7000."
   ]
  },
  {
   "cell_type": "code",
   "execution_count": 25,
   "metadata": {
    "collapsed": false
   },
   "outputs": [
    {
     "data": {
      "image/png": "[encoded data removed]",
      "text/plain": [
       "<matplotlib.figure.Figure at 0x110ee1250>"
      ]
     },
     "metadata": {},
     "output_type": "display_data"
    }
   ],
   "source": [
    "plt.ylabel('Number of documents')\n",
    "plt.xlabel('0 - coincident 1 - not coincident')\n",
    "plt.title('Differences between k=45 and our model ')\n",
    "plt.hist(d2, color=\"#6495ED\", bins=2)\n",
    "plt.savefig('our_model_vs_mayority_model_k45.png')"
   ]
  },
  {
   "cell_type": "code",
   "execution_count": null,
   "metadata": {
    "collapsed": true
   },
   "outputs": [],
   "source": []
  }
 ],
 "metadata": {
  "kernelspec": {
   "display_name": "Python 2",
   "language": "python",
   "name": "python2"
  },
  "language_info": {
   "codemirror_mode": {
    "name": "ipython",
    "version": 2
   },
   "file_extension": ".py",
   "mimetype": "text/x-python",
   "name": "python",
   "nbconvert_exporter": "python",
   "pygments_lexer": "ipython2",
   "version": "2.7.10"
  }
 },
 "nbformat": 4,
 "nbformat_minor": 0
}
